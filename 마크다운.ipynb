{
  "nbformat": 4,
  "nbformat_minor": 0,
  "metadata": {
    "colab": {
      "name": "마크다운.ipynb",
      "provenance": [],
      "collapsed_sections": []
    },
    "kernelspec": {
      "name": "python3",
      "display_name": "Python 3"
    },
    "language_info": {
      "name": "python"
    }
  },
  "cells": [
    {
      "cell_type": "markdown",
      "source": [
        "1. 깃허브 계정 만들기\n",
        "- [github.com](https://github.com)\n",
        "\n",
        "2. 블로그 테마 정하기\n",
        "- [minimal-mistakes](https://github.com/mmistakes/minimal-mistakes)\n",
        "- Fork하기(오른쪽 상단에 있음)\n",
        "\n",
        "3. 설정\n",
        "- Settings에서 Repository name을 '아이디.github.io'로 넣어주고 rename 클릭.\n",
        "- 반드시 아이디를 적어주자.\n",
        "\n",
        "4. '_config.yml' 파일 수정\n",
        "- (1) url부분에 본인 주소 넣기('아이디.github.io)\n",
        "- 변경사항 반영시키기(commit changes)\n",
        "\n",
        "5. 블로그에 접속해서 확인\n",
        "```\n",
        "https://ai-ellie.github.io\n",
        "```\n",
        "- [ai-ellie.github.io](https://ai-ellie.github.io)\n",
        "\n",
        "6. 포스트하기\n",
        "- Add file -> Create new file --> '_posts/2022-02-16-first.md'로 생성\n",
        "- 아래 마크다운 문법에 따라 포스트 작성\n",
        "- commit new file"
      ],
      "metadata": {
        "id": "zdg9wUvkgsn9"
      }
    },
    {
      "cell_type": "markdown",
      "metadata": {
        "id": "7hDXZYpnA_DO"
      },
      "source": [
        "# 마크다운(Markdown)\n"
      ]
    },
    {
      "cell_type": "markdown",
      "metadata": {
        "id": "c0Sjw59GC_Kn"
      },
      "source": [
        "\n",
        "## 제목(Heading) 표시\n",
        "```\n",
        "# Heading 1\n",
        "## Heading 2\n",
        "### Heading 3\n",
        "#### Heading 4\n",
        "##### Heading 5\n",
        "###### Heading 6\n",
        "```"
      ]
    },
    {
      "cell_type": "markdown",
      "metadata": {
        "id": "WXfs_Cu1Co-H"
      },
      "source": [
        "# Heading 1\n",
        "## Heading 2\n",
        "### Heading 3\n",
        "#### Heading 4\n",
        "##### Heading 5\n",
        "###### Heading 6\n",
        "####### Heading 7"
      ]
    },
    {
      "cell_type": "markdown",
      "metadata": {
        "id": "oTWz1WgDBtqM"
      },
      "source": [
        "## 목록(List) 구성\n",
        "```\n",
        "1. 첫째\n",
        "2. 둘째\n",
        "3. 셋째\n",
        "* 1단계\n",
        "    + 2단계\n",
        "        - 3단계\n",
        "```\n",
        "\n"
      ]
    },
    {
      "cell_type": "markdown",
      "metadata": {
        "id": "fSJ0j0Y8CsKW"
      },
      "source": [
        "1. 첫째\n",
        "2. 둘째\n",
        "3. 셋째\n",
        "* 1단계\n",
        "    + 2단계\n",
        "        - 3단계"
      ]
    },
    {
      "cell_type": "markdown",
      "metadata": {
        "id": "TsaBsQUsCTE0"
      },
      "source": [
        "## 폰트 스타일(Font Style)\n",
        "\n",
        "```\n",
        "**bold**\n",
        "__bold\n",
        "*italic*\n",
        "_italic\n",
        "~~strike~~\n",
        "<u>underbar</u>\n",
        "```"
      ]
    },
    {
      "cell_type": "markdown",
      "metadata": {
        "id": "Fu4Lk62RCivG"
      },
      "source": [
        "**bold**\n",
        "__bold\n",
        "*italic*\n",
        "_italic\n",
        "~~strike~~\n",
        "<u>underbar</u>"
      ]
    },
    {
      "cell_type": "markdown",
      "metadata": {
        "id": "P8PLWLSODwrS"
      },
      "source": [
        "## 인용구\n",
        "```\n",
        "> 인용1\n",
        ">> 인용2\n",
        ">>> 인용3\n",
        "```\n",
        "\n"
      ]
    },
    {
      "cell_type": "markdown",
      "metadata": {
        "id": "gchOf72GD5lt"
      },
      "source": [
        "> 인용1\n",
        ">> 인용2\n",
        ">>> 인용3"
      ]
    },
    {
      "cell_type": "markdown",
      "metadata": {
        "id": "Jw5EeYO9D8AI"
      },
      "source": [
        "## 링크\n",
        "\n",
        "```\n",
        "[엘리쌤](http://youtube.com/엘리쌤)\n",
        "```"
      ]
    },
    {
      "cell_type": "markdown",
      "metadata": {
        "id": "2NVoA14BEMqB"
      },
      "source": [
        "[엘리쌤](http://youtube.com/엘리쌤)"
      ]
    },
    {
      "cell_type": "markdown",
      "metadata": {
        "id": "XclscvygEVcp"
      },
      "source": [
        "## 이미지\n",
        "```\n",
        "![이미지](https://www.google.com/images/branding/googlelogo/1x/googlelogo_color_272x92dp.png)\n",
        "```"
      ]
    },
    {
      "cell_type": "markdown",
      "metadata": {
        "id": "puOkShcgEnuq"
      },
      "source": [
        "![이미지](https://www.google.com/images/branding/googlelogo/1x/googlelogo_color_272x92dp.png)"
      ]
    },
    {
      "cell_type": "markdown",
      "metadata": {
        "id": "mVy5Qmd4Erlp"
      },
      "source": [
        "## 수평선\n",
        "\n",
        "\n",
        "```\n",
        "---\n",
        "```\n",
        "\n",
        "\n",
        "\n"
      ]
    },
    {
      "cell_type": "markdown",
      "metadata": {
        "id": "VhNkI-8VEviE"
      },
      "source": [
        "---"
      ]
    },
    {
      "cell_type": "markdown",
      "metadata": {
        "id": "hBVgu-TnEyFt"
      },
      "source": [
        "## 표\n",
        "\n",
        "\n",
        "```\n",
        "| C1 | C2 | C3  |\n",
        "|:---|---:|:---:|\n",
        "| D1 | D2 | D3 |\n",
        "```\n",
        "\n",
        ":-- 왼쪽 정렬, --: 오른쪽 정렬, :--: 양쪽 정렬\n",
        "\n",
        "\n"
      ]
    },
    {
      "cell_type": "markdown",
      "metadata": {
        "id": "5X87z4qYFFF-"
      },
      "source": [
        "| C1 | C2 | C3  |\n",
        "|:---|---:|:---:|\n",
        "| D1 | D2 | D3 |"
      ]
    },
    {
      "cell_type": "markdown",
      "metadata": {
        "id": "hqpFpco_FMfT"
      },
      "source": [
        "## 코드\n",
        "\n",
        "\n",
        "\n",
        "\n"
      ]
    },
    {
      "cell_type": "markdown",
      "metadata": {
        "id": "32V1r2KeG1He"
      },
      "source": [
        "```\n",
        "`inline code`   # 한 줄\n",
        "```block code``` # 여러 줄\n",
        "```"
      ]
    },
    {
      "cell_type": "markdown",
      "source": [
        "`inline code`"
      ],
      "metadata": {
        "id": "ye2Ptm0JKZsi"
      }
    },
    {
      "cell_type": "markdown",
      "source": [
        "```\n",
        "block code1\n",
        "block code2\n",
        "block code3\n",
        "```"
      ],
      "metadata": {
        "id": "hXk2EtDaKblo"
      }
    },
    {
      "cell_type": "markdown",
      "source": [
        "언어를 지정하면 그 언어에 맞게 색을 입혀 출력해 준다\n",
        "\n",
        "```python\n",
        "def power(b,n):\n",
        "    return pow(b,n)\n",
        "```"
      ],
      "metadata": {
        "id": "LMpewx9DKknh"
      }
    }
  ]
}